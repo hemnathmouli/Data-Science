{
  "nbformat": 4,
  "nbformat_minor": 0,
  "metadata": {
    "colab": {
      "name": "Support Vector Machine.ipynb",
      "version": "0.3.2",
      "views": {},
      "default_view": {},
      "provenance": []
    },
    "kernelspec": {
      "name": "python3",
      "display_name": "Python 3"
    }
  },
  "cells": [
    {
      "metadata": {
        "id": "YYZBNzi454rc",
        "colab_type": "code",
        "colab": {
          "autoexec": {
            "startup": false,
            "wait_interval": 0
          }
        }
      },
      "cell_type": "code",
      "source": [
        "import numpy as np\n",
        "import pandas as pd\n",
        "from sklearn.datasets import load_breast_cancer"
      ],
      "execution_count": 0,
      "outputs": []
    },
    {
      "metadata": {
        "id": "AFt_3iEu9YMs",
        "colab_type": "code",
        "colab": {
          "autoexec": {
            "startup": false,
            "wait_interval": 0
          }
        }
      },
      "cell_type": "code",
      "source": [
        "cancer = load_breast_cancer()"
      ],
      "execution_count": 0,
      "outputs": []
    },
    {
      "metadata": {
        "id": "Ii4J7oYx9b0m",
        "colab_type": "code",
        "colab": {
          "autoexec": {
            "startup": false,
            "wait_interval": 0
          }
        }
      },
      "cell_type": "code",
      "source": [
        "df = pd.DataFrame(cancer['data'],columns=cancer['feature_names'])"
      ],
      "execution_count": 0,
      "outputs": []
    },
    {
      "metadata": {
        "id": "EVQMw4u29dIv",
        "colab_type": "code",
        "colab": {
          "autoexec": {
            "startup": false,
            "wait_interval": 0
          }
        }
      },
      "cell_type": "code",
      "source": [
        "from sklearn.cross_validation import train_test_split"
      ],
      "execution_count": 0,
      "outputs": []
    },
    {
      "metadata": {
        "id": "MouP_zgt9wcb",
        "colab_type": "code",
        "colab": {
          "autoexec": {
            "startup": false,
            "wait_interval": 0
          }
        }
      },
      "cell_type": "code",
      "source": [
        "X = df\n",
        "y = cancer['target']\n",
        "\n",
        "X_train, X_test, y_train, y_test = train_test_split(X, y, test_size=0.3, random_state=101)"
      ],
      "execution_count": 0,
      "outputs": []
    },
    {
      "metadata": {
        "id": "JYdbtUPc-cop",
        "colab_type": "code",
        "colab": {
          "autoexec": {
            "startup": false,
            "wait_interval": 0
          }
        }
      },
      "cell_type": "code",
      "source": [
        "from sklearn.svm import SVC\n",
        "model = SVC()"
      ],
      "execution_count": 0,
      "outputs": []
    },
    {
      "metadata": {
        "id": "Q2Qh8N7_-lsN",
        "colab_type": "code",
        "colab": {
          "autoexec": {
            "startup": false,
            "wait_interval": 0
          },
          "base_uri": "https://localhost:8080/",
          "height": 85
        },
        "outputId": "77e7aaa4-2e3e-4fd8-f7e2-bec779a637bd",
        "executionInfo": {
          "status": "ok",
          "timestamp": 1529309990752,
          "user_tz": 240,
          "elapsed": 813,
          "user": {
            "displayName": "hemnath mouli",
            "photoUrl": "//lh3.googleusercontent.com/-ZydTKskBhSc/AAAAAAAAAAI/AAAAAAAARGM/G3mE7zn14tg/s50-c-k-no/photo.jpg",
            "userId": "111114288718429808334"
          }
        }
      },
      "cell_type": "code",
      "source": [
        "model.fit(X_train,y_train)"
      ],
      "execution_count": 17,
      "outputs": [
        {
          "output_type": "execute_result",
          "data": {
            "text/plain": [
              "SVC(C=1.0, cache_size=200, class_weight=None, coef0=0.0,\n",
              "  decision_function_shape='ovr', degree=3, gamma='auto', kernel='rbf',\n",
              "  max_iter=-1, probability=False, random_state=None, shrinking=True,\n",
              "  tol=0.001, verbose=False)"
            ]
          },
          "metadata": {
            "tags": []
          },
          "execution_count": 17
        }
      ]
    },
    {
      "metadata": {
        "id": "4u_M3DB5-ov5",
        "colab_type": "code",
        "colab": {
          "autoexec": {
            "startup": false,
            "wait_interval": 0
          }
        }
      },
      "cell_type": "code",
      "source": [
        "predict = model.predict(X_test)"
      ],
      "execution_count": 0,
      "outputs": []
    },
    {
      "metadata": {
        "id": "LBSCrG_E-uNp",
        "colab_type": "code",
        "colab": {
          "autoexec": {
            "startup": false,
            "wait_interval": 0
          }
        }
      },
      "cell_type": "code",
      "source": [
        "from sklearn.metrics import confusion_matrix, classification_report"
      ],
      "execution_count": 0,
      "outputs": []
    },
    {
      "metadata": {
        "id": "QDML8ve6-1n3",
        "colab_type": "code",
        "colab": {
          "autoexec": {
            "startup": false,
            "wait_interval": 0
          },
          "base_uri": "https://localhost:8080/",
          "height": 258
        },
        "outputId": "754e43b5-9426-4a8c-fee0-33aa9ce55d7b",
        "executionInfo": {
          "status": "ok",
          "timestamp": 1529310094210,
          "user_tz": 240,
          "elapsed": 806,
          "user": {
            "displayName": "hemnath mouli",
            "photoUrl": "//lh3.googleusercontent.com/-ZydTKskBhSc/AAAAAAAAAAI/AAAAAAAARGM/G3mE7zn14tg/s50-c-k-no/photo.jpg",
            "userId": "111114288718429808334"
          }
        }
      },
      "cell_type": "code",
      "source": [
        "print(confusion_matrix(y_test,predict))\n",
        "print('\\n')\n",
        "print(classification_report(y_test,predict))"
      ],
      "execution_count": 20,
      "outputs": [
        {
          "output_type": "stream",
          "text": [
            "[[  0  66]\n",
            " [  0 105]]\n",
            "\n",
            "\n",
            "             precision    recall  f1-score   support\n",
            "\n",
            "          0       0.00      0.00      0.00        66\n",
            "          1       0.61      1.00      0.76       105\n",
            "\n",
            "avg / total       0.38      0.61      0.47       171\n",
            "\n"
          ],
          "name": "stdout"
        },
        {
          "output_type": "stream",
          "text": [
            "/usr/local/lib/python3.6/dist-packages/sklearn/metrics/classification.py:1135: UndefinedMetricWarning: Precision and F-score are ill-defined and being set to 0.0 in labels with no predicted samples.\n",
            "  'precision', 'predicted', average, warn_for)\n"
          ],
          "name": "stderr"
        }
      ]
    },
    {
      "metadata": {
        "id": "0u_TtDLL_CAU",
        "colab_type": "code",
        "colab": {
          "autoexec": {
            "startup": false,
            "wait_interval": 0
          }
        }
      },
      "cell_type": "code",
      "source": [
        "from sklearn.grid_search import GridSearchCV"
      ],
      "execution_count": 0,
      "outputs": []
    },
    {
      "metadata": {
        "id": "Ju4vcBDC_Lb4",
        "colab_type": "code",
        "colab": {
          "autoexec": {
            "startup": false,
            "wait_interval": 0
          }
        }
      },
      "cell_type": "code",
      "source": [
        "pram_grid = {'C':[0.1,1,10,100,1000],'gamma':[1,0.1,0.001,0.0001,0.00001]}"
      ],
      "execution_count": 0,
      "outputs": []
    },
    {
      "metadata": {
        "id": "3fSae83Z_bOI",
        "colab_type": "code",
        "colab": {
          "autoexec": {
            "startup": false,
            "wait_interval": 0
          }
        }
      },
      "cell_type": "code",
      "source": [
        "grid = GridSearchCV(SVC(), pram_grid,verbose=3)"
      ],
      "execution_count": 0,
      "outputs": []
    },
    {
      "metadata": {
        "id": "fgeV1OfB_sdC",
        "colab_type": "code",
        "colab": {
          "autoexec": {
            "startup": false,
            "wait_interval": 0
          },
          "base_uri": "https://localhost:8080/",
          "height": 2771
        },
        "outputId": "ce001a7d-fe5c-4cf9-c426-710eaf920b36",
        "executionInfo": {
          "status": "ok",
          "timestamp": 1529310283017,
          "user_tz": 240,
          "elapsed": 1217,
          "user": {
            "displayName": "hemnath mouli",
            "photoUrl": "//lh3.googleusercontent.com/-ZydTKskBhSc/AAAAAAAAAAI/AAAAAAAARGM/G3mE7zn14tg/s50-c-k-no/photo.jpg",
            "userId": "111114288718429808334"
          }
        }
      },
      "cell_type": "code",
      "source": [
        "grid.fit(X_train,y_train)"
      ],
      "execution_count": 24,
      "outputs": [
        {
          "output_type": "stream",
          "text": [
            "Fitting 3 folds for each of 25 candidates, totalling 75 fits\n",
            "[CV] C=0.1, gamma=1 ..................................................\n",
            "[CV] ......................... C=0.1, gamma=1, score=0.631579 -   0.0s\n",
            "[CV] C=0.1, gamma=1 ..................................................\n",
            "[CV] ......................... C=0.1, gamma=1, score=0.631579 -   0.0s\n",
            "[CV] C=0.1, gamma=1 ..................................................\n",
            "[CV] ......................... C=0.1, gamma=1, score=0.636364 -   0.0s\n",
            "[CV] C=0.1, gamma=0.1 ................................................\n",
            "[CV] ....................... C=0.1, gamma=0.1, score=0.631579 -   0.0s\n",
            "[CV] C=0.1, gamma=0.1 ................................................\n",
            "[CV] ....................... C=0.1, gamma=0.1, score=0.631579 -   0.0s\n",
            "[CV] C=0.1, gamma=0.1 ................................................\n",
            "[CV] ....................... C=0.1, gamma=0.1, score=0.636364 -   0.0s\n",
            "[CV] C=0.1, gamma=0.001 ..............................................\n",
            "[CV] ..................... C=0.1, gamma=0.001, score=0.631579 -   0.0s\n",
            "[CV] C=0.1, gamma=0.001 ..............................................\n",
            "[CV] ..................... C=0.1, gamma=0.001, score=0.631579 -   0.0s\n",
            "[CV] C=0.1, gamma=0.001 ..............................................\n",
            "[CV] ..................... C=0.1, gamma=0.001, score=0.636364 -   0.0s\n",
            "[CV] C=0.1, gamma=0.0001 .............................................\n",
            "[CV] .................... C=0.1, gamma=0.0001, score=0.902256 -   0.0s\n",
            "[CV] C=0.1, gamma=0.0001 .............................................\n",
            "[CV] .................... C=0.1, gamma=0.0001, score=0.962406 -   0.0s\n",
            "[CV] C=0.1, gamma=0.0001 .............................................\n",
            "[CV] .................... C=0.1, gamma=0.0001, score=0.916667 -   0.0s\n",
            "[CV] C=0.1, gamma=1e-05 ..............................................\n",
            "[CV] ..................... C=0.1, gamma=1e-05, score=0.894737 -   0.0s\n",
            "[CV] C=0.1, gamma=1e-05 ..............................................\n",
            "[CV] ..................... C=0.1, gamma=1e-05, score=0.962406 -   0.0s\n",
            "[CV] C=0.1, gamma=1e-05 ..............................................\n",
            "[CV] ..................... C=0.1, gamma=1e-05, score=0.901515 -   0.0s\n",
            "[CV] C=1, gamma=1 ....................................................\n",
            "[CV] ........................... C=1, gamma=1, score=0.631579 -   0.0s\n",
            "[CV] C=1, gamma=1 ....................................................\n",
            "[CV] ........................... C=1, gamma=1, score=0.631579 -   0.0s\n",
            "[CV] C=1, gamma=1 ....................................................\n",
            "[CV] ........................... C=1, gamma=1, score=0.636364 -   0.0s\n",
            "[CV] C=1, gamma=0.1 ..................................................\n",
            "[CV] ......................... C=1, gamma=0.1, score=0.631579 -   0.0s\n",
            "[CV] C=1, gamma=0.1 ..................................................\n",
            "[CV] ......................... C=1, gamma=0.1, score=0.631579 -   0.0s\n",
            "[CV] C=1, gamma=0.1 ..................................................\n",
            "[CV] ......................... C=1, gamma=0.1, score=0.636364 -   0.0s\n",
            "[CV] C=1, gamma=0.001 ................................................\n",
            "[CV] ....................... C=1, gamma=0.001, score=0.902256 -   0.0s\n",
            "[CV] C=1, gamma=0.001 ................................................\n"
          ],
          "name": "stdout"
        },
        {
          "output_type": "stream",
          "text": [
            "[Parallel(n_jobs=1)]: Done   1 out of   1 | elapsed:    0.0s remaining:    0.0s\n",
            "[Parallel(n_jobs=1)]: Done   2 out of   2 | elapsed:    0.0s remaining:    0.0s\n"
          ],
          "name": "stderr"
        },
        {
          "output_type": "stream",
          "text": [
            "[CV] ....................... C=1, gamma=0.001, score=0.939850 -   0.0s\n",
            "[CV] C=1, gamma=0.001 ................................................\n",
            "[CV] ....................... C=1, gamma=0.001, score=0.954545 -   0.0s\n",
            "[CV] C=1, gamma=0.0001 ...............................................\n",
            "[CV] ...................... C=1, gamma=0.0001, score=0.939850 -   0.0s\n",
            "[CV] C=1, gamma=0.0001 ...............................................\n",
            "[CV] ...................... C=1, gamma=0.0001, score=0.969925 -   0.0s\n",
            "[CV] C=1, gamma=0.0001 ...............................................\n",
            "[CV] ...................... C=1, gamma=0.0001, score=0.946970 -   0.0s\n",
            "[CV] C=1, gamma=1e-05 ................................................\n",
            "[CV] ....................... C=1, gamma=1e-05, score=0.902256 -   0.0s\n",
            "[CV] C=1, gamma=1e-05 ................................................\n",
            "[CV] ....................... C=1, gamma=1e-05, score=0.962406 -   0.0s\n",
            "[CV] C=1, gamma=1e-05 ................................................\n",
            "[CV] ....................... C=1, gamma=1e-05, score=0.909091 -   0.0s\n",
            "[CV] C=10, gamma=1 ...................................................\n",
            "[CV] .......................... C=10, gamma=1, score=0.631579 -   0.0s\n",
            "[CV] C=10, gamma=1 ...................................................\n",
            "[CV] .......................... C=10, gamma=1, score=0.631579 -   0.0s\n",
            "[CV] C=10, gamma=1 ...................................................\n",
            "[CV] .......................... C=10, gamma=1, score=0.636364 -   0.0s\n",
            "[CV] C=10, gamma=0.1 .................................................\n",
            "[CV] ........................ C=10, gamma=0.1, score=0.631579 -   0.0s\n",
            "[CV] C=10, gamma=0.1 .................................................\n",
            "[CV] ........................ C=10, gamma=0.1, score=0.631579 -   0.0s\n",
            "[CV] C=10, gamma=0.1 .................................................\n",
            "[CV] ........................ C=10, gamma=0.1, score=0.636364 -   0.0s\n",
            "[CV] C=10, gamma=0.001 ...............................................\n",
            "[CV] ...................... C=10, gamma=0.001, score=0.894737 -   0.0s\n",
            "[CV] C=10, gamma=0.001 ...............................................\n",
            "[CV] ...................... C=10, gamma=0.001, score=0.932331 -   0.0s\n",
            "[CV] C=10, gamma=0.001 ...............................................\n",
            "[CV] ...................... C=10, gamma=0.001, score=0.916667 -   0.0s\n",
            "[CV] C=10, gamma=0.0001 ..............................................\n",
            "[CV] ..................... C=10, gamma=0.0001, score=0.932331 -   0.0s\n",
            "[CV] C=10, gamma=0.0001 ..............................................\n",
            "[CV] ..................... C=10, gamma=0.0001, score=0.969925 -   0.0s\n",
            "[CV] C=10, gamma=0.0001 ..............................................\n",
            "[CV] ..................... C=10, gamma=0.0001, score=0.962121 -   0.0s\n",
            "[CV] C=10, gamma=1e-05 ...............................................\n",
            "[CV] ...................... C=10, gamma=1e-05, score=0.924812 -   0.0s\n",
            "[CV] C=10, gamma=1e-05 ...............................................\n",
            "[CV] ...................... C=10, gamma=1e-05, score=0.969925 -   0.0s\n",
            "[CV] C=10, gamma=1e-05 ...............................................\n",
            "[CV] ...................... C=10, gamma=1e-05, score=0.939394 -   0.0s\n",
            "[CV] C=100, gamma=1 ..................................................\n",
            "[CV] ......................... C=100, gamma=1, score=0.631579 -   0.0s\n",
            "[CV] C=100, gamma=1 ..................................................\n",
            "[CV] ......................... C=100, gamma=1, score=0.631579 -   0.0s\n",
            "[CV] C=100, gamma=1 ..................................................\n",
            "[CV] ......................... C=100, gamma=1, score=0.636364 -   0.0s\n",
            "[CV] C=100, gamma=0.1 ................................................\n",
            "[CV] ....................... C=100, gamma=0.1, score=0.631579 -   0.0s\n",
            "[CV] C=100, gamma=0.1 ................................................\n",
            "[CV] ....................... C=100, gamma=0.1, score=0.631579 -   0.0s\n",
            "[CV] C=100, gamma=0.1 ................................................\n",
            "[CV] ....................... C=100, gamma=0.1, score=0.636364 -   0.0s\n",
            "[CV] C=100, gamma=0.001 ..............................................\n",
            "[CV] ..................... C=100, gamma=0.001, score=0.894737 -   0.0s\n",
            "[CV] C=100, gamma=0.001 ..............................................\n",
            "[CV] ..................... C=100, gamma=0.001, score=0.932331 -   0.0s\n",
            "[CV] C=100, gamma=0.001 ..............................................\n",
            "[CV] ..................... C=100, gamma=0.001, score=0.916667 -   0.0s\n",
            "[CV] C=100, gamma=0.0001 .............................................\n",
            "[CV] .................... C=100, gamma=0.0001, score=0.917293 -   0.0s\n",
            "[CV] C=100, gamma=0.0001 .............................................\n",
            "[CV] .................... C=100, gamma=0.0001, score=0.977444 -   0.0s\n",
            "[CV] C=100, gamma=0.0001 .............................................\n",
            "[CV] .................... C=100, gamma=0.0001, score=0.939394 -   0.0s\n",
            "[CV] C=100, gamma=1e-05 ..............................................\n",
            "[CV] ..................... C=100, gamma=1e-05, score=0.939850 -   0.0s\n",
            "[CV] C=100, gamma=1e-05 ..............................................\n",
            "[CV] ..................... C=100, gamma=1e-05, score=0.984962 -   0.0s\n",
            "[CV] C=100, gamma=1e-05 ..............................................\n",
            "[CV] ..................... C=100, gamma=1e-05, score=0.954545 -   0.0s\n",
            "[CV] C=1000, gamma=1 .................................................\n",
            "[CV] ........................ C=1000, gamma=1, score=0.631579 -   0.0s\n",
            "[CV] C=1000, gamma=1 .................................................\n",
            "[CV] ........................ C=1000, gamma=1, score=0.631579 -   0.0s\n",
            "[CV] C=1000, gamma=1 .................................................\n",
            "[CV] ........................ C=1000, gamma=1, score=0.636364 -   0.0s\n",
            "[CV] C=1000, gamma=0.1 ...............................................\n",
            "[CV] ...................... C=1000, gamma=0.1, score=0.631579 -   0.0s\n",
            "[CV] C=1000, gamma=0.1 ...............................................\n",
            "[CV] ...................... C=1000, gamma=0.1, score=0.631579 -   0.0s\n",
            "[CV] C=1000, gamma=0.1 ...............................................\n",
            "[CV] ...................... C=1000, gamma=0.1, score=0.636364 -   0.0s\n",
            "[CV] C=1000, gamma=0.001 .............................................\n",
            "[CV] .................... C=1000, gamma=0.001, score=0.894737 -   0.0s\n",
            "[CV] C=1000, gamma=0.001 .............................................\n",
            "[CV] .................... C=1000, gamma=0.001, score=0.932331 -   0.0s\n",
            "[CV] C=1000, gamma=0.001 .............................................\n",
            "[CV] .................... C=1000, gamma=0.001, score=0.916667 -   0.0s\n",
            "[CV] C=1000, gamma=0.0001 ............................................\n",
            "[CV] ................... C=1000, gamma=0.0001, score=0.909774 -   0.0s\n",
            "[CV] C=1000, gamma=0.0001 ............................................\n",
            "[CV] ................... C=1000, gamma=0.0001, score=0.969925 -   0.0s\n",
            "[CV] C=1000, gamma=0.0001 ............................................\n",
            "[CV] ................... C=1000, gamma=0.0001, score=0.931818 -   0.0s\n",
            "[CV] C=1000, gamma=1e-05 .............................................\n",
            "[CV] .................... C=1000, gamma=1e-05, score=0.909774 -   0.0s\n",
            "[CV] C=1000, gamma=1e-05 .............................................\n",
            "[CV] .................... C=1000, gamma=1e-05, score=0.984962 -   0.0s\n",
            "[CV] C=1000, gamma=1e-05 .............................................\n",
            "[CV] .................... C=1000, gamma=1e-05, score=0.962121 -   0.0s\n"
          ],
          "name": "stdout"
        },
        {
          "output_type": "stream",
          "text": [
            "[Parallel(n_jobs=1)]: Done  75 out of  75 | elapsed:    0.6s finished\n"
          ],
          "name": "stderr"
        },
        {
          "output_type": "execute_result",
          "data": {
            "text/plain": [
              "GridSearchCV(cv=None, error_score='raise',\n",
              "       estimator=SVC(C=1.0, cache_size=200, class_weight=None, coef0=0.0,\n",
              "  decision_function_shape='ovr', degree=3, gamma='auto', kernel='rbf',\n",
              "  max_iter=-1, probability=False, random_state=None, shrinking=True,\n",
              "  tol=0.001, verbose=False),\n",
              "       fit_params={}, iid=True, n_jobs=1,\n",
              "       param_grid={'C': [0.1, 1, 10, 100, 1000], 'gamma': [1, 0.1, 0.001, 0.0001, 1e-05]},\n",
              "       pre_dispatch='2*n_jobs', refit=True, scoring=None, verbose=3)"
            ]
          },
          "metadata": {
            "tags": []
          },
          "execution_count": 24
        }
      ]
    },
    {
      "metadata": {
        "id": "dsk3iEHC_v_9",
        "colab_type": "code",
        "colab": {
          "autoexec": {
            "startup": false,
            "wait_interval": 0
          }
        }
      },
      "cell_type": "code",
      "source": [
        "grid_predict = grid.predict(X_test)"
      ],
      "execution_count": 0,
      "outputs": []
    },
    {
      "metadata": {
        "id": "GBYZ-_f9_375",
        "colab_type": "code",
        "colab": {
          "autoexec": {
            "startup": false,
            "wait_interval": 0
          },
          "base_uri": "https://localhost:8080/",
          "height": 204
        },
        "outputId": "f02e29c2-df38-43f0-8ddd-3edb9c7a9758",
        "executionInfo": {
          "status": "ok",
          "timestamp": 1529310391590,
          "user_tz": 240,
          "elapsed": 1016,
          "user": {
            "displayName": "hemnath mouli",
            "photoUrl": "//lh3.googleusercontent.com/-ZydTKskBhSc/AAAAAAAAAAI/AAAAAAAARGM/G3mE7zn14tg/s50-c-k-no/photo.jpg",
            "userId": "111114288718429808334"
          }
        }
      },
      "cell_type": "code",
      "source": [
        "print(confusion_matrix(y_test,grid_predict))\n",
        "print('\\n')\n",
        "print(classification_report(y_test,grid_predict))"
      ],
      "execution_count": 27,
      "outputs": [
        {
          "output_type": "stream",
          "text": [
            "[[ 59   7]\n",
            " [  4 101]]\n",
            "\n",
            "\n",
            "             precision    recall  f1-score   support\n",
            "\n",
            "          0       0.94      0.89      0.91        66\n",
            "          1       0.94      0.96      0.95       105\n",
            "\n",
            "avg / total       0.94      0.94      0.94       171\n",
            "\n"
          ],
          "name": "stdout"
        }
      ]
    },
    {
      "metadata": {
        "id": "2udkEagwAKjZ",
        "colab_type": "code",
        "colab": {
          "autoexec": {
            "startup": false,
            "wait_interval": 0
          },
          "base_uri": "https://localhost:8080/",
          "height": 34
        },
        "outputId": "5fbd7653-bd64-4836-c6a5-7251fa41861d",
        "executionInfo": {
          "status": "ok",
          "timestamp": 1529310492462,
          "user_tz": 240,
          "elapsed": 762,
          "user": {
            "displayName": "hemnath mouli",
            "photoUrl": "//lh3.googleusercontent.com/-ZydTKskBhSc/AAAAAAAAAAI/AAAAAAAARGM/G3mE7zn14tg/s50-c-k-no/photo.jpg",
            "userId": "111114288718429808334"
          }
        }
      },
      "cell_type": "code",
      "source": [
        "grid.predict(X_test.head(5))"
      ],
      "execution_count": 33,
      "outputs": [
        {
          "output_type": "execute_result",
          "data": {
            "text/plain": [
              "array([1, 1, 1, 0, 1])"
            ]
          },
          "metadata": {
            "tags": []
          },
          "execution_count": 33
        }
      ]
    },
    {
      "metadata": {
        "id": "UbdYlBqMAPyS",
        "colab_type": "code",
        "colab": {
          "autoexec": {
            "startup": false,
            "wait_interval": 0
          },
          "base_uri": "https://localhost:8080/",
          "height": 34
        },
        "outputId": "f0d75254-9dd6-468e-a184-192098c2052d",
        "executionInfo": {
          "status": "ok",
          "timestamp": 1529310485083,
          "user_tz": 240,
          "elapsed": 1025,
          "user": {
            "displayName": "hemnath mouli",
            "photoUrl": "//lh3.googleusercontent.com/-ZydTKskBhSc/AAAAAAAAAAI/AAAAAAAARGM/G3mE7zn14tg/s50-c-k-no/photo.jpg",
            "userId": "111114288718429808334"
          }
        }
      },
      "cell_type": "code",
      "source": [
        "y_test[0:5]"
      ],
      "execution_count": 32,
      "outputs": [
        {
          "output_type": "execute_result",
          "data": {
            "text/plain": [
              "array([1, 1, 1, 0, 1])"
            ]
          },
          "metadata": {
            "tags": []
          },
          "execution_count": 32
        }
      ]
    },
    {
      "metadata": {
        "id": "xqIIVpj2AbWY",
        "colab_type": "code",
        "colab": {
          "autoexec": {
            "startup": false,
            "wait_interval": 0
          }
        }
      },
      "cell_type": "code",
      "source": [
        ""
      ],
      "execution_count": 0,
      "outputs": []
    }
  ]
}